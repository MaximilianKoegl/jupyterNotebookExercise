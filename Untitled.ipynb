{
 "cells": [
  {
   "cell_type": "markdown",
   "metadata": {},
   "source": [
    "# Reaction Time Analyses"
   ]
  },
  {
   "cell_type": "markdown",
   "metadata": {},
   "source": [
    "Some text"
   ]
  },
  {
   "cell_type": "markdown",
   "metadata": {},
   "source": [
    "Importing libraries and defining variables"
   ]
  },
  {
   "cell_type": "code",
   "execution_count": null,
   "metadata": {},
   "outputs": [],
   "source": [
    "%matplotlib inline\n",
    "from pylab import *\n",
    "import numpy as np\n",
    "rcParams['figure.figsize'] = (16,9)\n",
    "input = []\n",
    "an = []\n",
    "ad = []\n",
    "pn = []\n",
    "pd = []\n",
    "all_data = []"
   ]
  },
  {
   "cell_type": "markdown",
   "metadata": {},
   "source": [
    "Functions for reading CSV and sorting it. Also, running those functions"
   ]
  },
  {
   "cell_type": "code",
   "execution_count": null,
   "metadata": {
    "scrolled": true,
    "tags": [
     "hidecode"
    ]
   },
   "outputs": [],
   "source": [
    "input = []\n",
    "an = []\n",
    "ad = []\n",
    "pn = []\n",
    "pd = []\n",
    "all_data = []\n",
    "\n",
    "def readCsv():\n",
    "    data = open(\"reaction_test_results.csv\", \"r\")\n",
    "    for line in data:\n",
    "        line_data = []\n",
    "        for i in line.split(','):\n",
    "            line_data.append(i.strip())\n",
    "        input.append(line_data)\n",
    "\n",
    "def sortInput():\n",
    "    i = len(input)-1\n",
    "\n",
    "    while i > 0:\n",
    "        if input[i][2] == 'A':\n",
    "            if input[i][3] == 'N':\n",
    "                an.append(float(input[i][6]))\n",
    "            else:\n",
    "                ad.append(float(input[i][6]))\n",
    "        else:\n",
    "            if input[i][3] == 'N':\n",
    "                pn.append(float(input[i][6]))\n",
    "            else:\n",
    "                pd.append(float(input[i][6]))\n",
    "        i = i-1\n",
    "    \n",
    "    all_data.extend(an)\n",
    "    all_data.extend(ad)\n",
    "    all_data.extend(pn)\n",
    "    all_data.extend(pd)\n",
    "\n",
    "\n",
    "readCsv()\n",
    "sortInput()"
   ]
  },
  {
   "cell_type": "code",
   "execution_count": null,
   "metadata": {
    "scrolled": true
   },
   "outputs": [],
   "source": [
    "ID = range(len(an))\n",
    "scatter(ID, an, color = 'orange')\n",
    "title(\"Attentive, No-Distraction\")\n",
    "ylabel(\"Time in s\")\n",
    "xlabel(\"Trials\")\n",
    "show()"
   ]
  },
  {
   "cell_type": "code",
   "execution_count": null,
   "metadata": {},
   "outputs": [],
   "source": [
    "scatter(ID, ad, color = 'blue')\n",
    "title(\"Attentive, Distraction\")\n",
    "ylabel(\"Time in s\")\n",
    "xlabel(\"Trials\")\n",
    "show()"
   ]
  },
  {
   "cell_type": "code",
   "execution_count": null,
   "metadata": {},
   "outputs": [],
   "source": [
    "scatter(ID, pn, color = 'red')\n",
    "title(\"Pre-Attentive, No-Distraction\")\n",
    "ylabel(\"Time in s\")\n",
    "xlabel(\"Trials\")\n",
    "show()"
   ]
  },
  {
   "cell_type": "code",
   "execution_count": null,
   "metadata": {},
   "outputs": [],
   "source": [
    "scatter(ID,pd, color = 'green')\n",
    "title(\"Pre-Attentive, Distraction\")\n",
    "ylabel(\"Time in s\")\n",
    "xlabel(\"Trials\")\n",
    "show()"
   ]
  },
  {
   "cell_type": "code",
   "execution_count": null,
   "metadata": {},
   "outputs": [],
   "source": [
    "pd_scatter = scatter(ID,pd, color = 'green')\n",
    "pn_scatter = scatter(ID, pn, color = 'red')\n",
    "ad_scatter = scatter(ID, ad, color = 'blue')\n",
    "an_scatter = scatter(ID, an, color = 'orange')\n",
    "\n",
    "\n",
    "title(\"All Conditions\")\n",
    "legend((pd_scatter, pn_scatter, ad_scatter, an_scatter),\n",
    "      ('PD', 'PN', 'AD', 'AN'))\n",
    "ylabel(\"Time in s\")\n",
    "xlabel(\"Trials\")\n",
    "show()"
   ]
  },
  {
   "cell_type": "code",
   "execution_count": null,
   "metadata": {
    "scrolled": false
   },
   "outputs": [],
   "source": [
    "boxplot([an, ad, pn, pd])\n",
    "xticks([1,2,3,4], ['AN','AD','PN','PD'])\n",
    "xlabel(\"Conditions\")\n",
    "ylabel(\"Time in s\")\n",
    "show()"
   ]
  },
  {
   "cell_type": "code",
   "execution_count": null,
   "metadata": {},
   "outputs": [],
   "source": []
  },
  {
   "cell_type": "code",
   "execution_count": null,
   "metadata": {},
   "outputs": [],
   "source": []
  }
 ],
 "metadata": {
  "kernelspec": {
   "display_name": "Python 3",
   "language": "python",
   "name": "python3"
  },
  "language_info": {
   "codemirror_mode": {
    "name": "ipython",
    "version": 3
   },
   "file_extension": ".py",
   "mimetype": "text/x-python",
   "name": "python",
   "nbconvert_exporter": "python",
   "pygments_lexer": "ipython3",
   "version": "3.7.3rc1"
  }
 },
 "nbformat": 4,
 "nbformat_minor": 2
}
